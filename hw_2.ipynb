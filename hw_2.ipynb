{
 "cells": [
  {
   "cell_type": "code",
   "execution_count": 2,
   "metadata": {},
   "outputs": [],
   "source": [
    "import pandas as pd\n",
    "import numpy as  np\n",
    "import scipy as sp\n",
    "from ggplot import *\n",
    "import statsmodels.api as sm"
   ]
  },
  {
   "cell_type": "code",
   "execution_count": 3,
   "metadata": {},
   "outputs": [
    {
     "name": "stdout",
     "output_type": "stream",
     "text": [
      "       Congruent  Incongruent\ncount  24.000000    24.000000\nmean   14.051125    22.015917\nstd     3.559358     4.797057\nmin     8.630000    15.687000\n25%    11.895250    18.716750\n50%    14.356500    21.017500\n75%    16.200750    24.051500\nmax    22.328000    35.255000\n"
     ]
    }
   ],
   "source": [
    "df = pd.read_csv('/Users/mike/PycharmProject/stroop_data_py/stroopdata.csv')\n",
    "\n",
    "print df.describe()"
   ]
  },
  {
   "cell_type": "code",
   "execution_count": 4,
   "metadata": {},
   "outputs": [
    {
     "name": "stdout",
     "output_type": "stream",
     "text": [
      "1.80644996203e-122\n"
     ]
    }
   ],
   "source": [
    "con = sp.stats.norm(14.051125, 3.559358 ).pdf(98)\n",
    "incon = sp.stats.norm(22.015917,4.797057).pdf(98)\n",
    "\n",
    "print con"
   ]
  },
  {
   "cell_type": "code",
   "execution_count": 5,
   "metadata": {},
   "outputs": [
    {
     "name": "stdout",
     "output_type": "stream",
     "text": [
      "Congruent      14.051125\nIncongruent    22.015917\ndtype: float64\n\r \nEmpty DataFrame\nColumns: [Congruent, Incongruent]\nIndex: []\n\r\nCongruent      14.3565\nIncongruent    21.0175\ndtype: float64\n"
     ]
    }
   ],
   "source": [
    "mean = df.mean()\n",
    "mode = df.mode()\n",
    "median = df.median()\n",
    "\n",
    "print mean\n",
    "print '\\r '\n",
    "print mode\n",
    "print '\\r'\n",
    "print median"
   ]
  },
  {
   "cell_type": "code",
   "execution_count": 34,
   "metadata": {},
   "outputs": [],
   "source": [
    "x = df['Congruent']\n",
    "y = df['Incongruent']\n",
    "\n",
    "#independent\n",
    "\n",
    "print sp.stats.ttest_ind(x, y)\n",
    "\n",
    "#related\n",
    "# http://docs.scipy.org/doc/scipy-0.14.0/reference/generated/scipy.stats.mstats.ttest_rel.html\n",
    "# http://en.wikipedia.org/wiki/T-test#Dependent_t-test\n",
    "\n",
    "print sp.stats.ttest_rel(x, y)\n",
    "\n",
    "print sp.stats.ttest_ind(x, y, equal_var=False)\n",
    "\n",
    "\n",
    "#compare means\n",
    "sm.stats.DescrStatsW(x, y)\n",
    "u = sm.stats.CompareMeans(x,y)\n",
    "print 'p-value: ', u"
   ]
  },
  {
   "cell_type": "code",
   "execution_count": 16,
   "metadata": {},
   "outputs": [],
   "source": [
    "#https://github.com/AllenDowney/CompStats/blob/master/effect_size.ipynb\n",
    "\n",
    "def CohenEffectSize(group1, group2):\n",
    "    \"\"\"Compute Cohen's d.\n",
    "\n",
    "    group1: Series or NumPy array\n",
    "    group2: Series or NumPy array\n",
    "\n",
    "    returns: float\n",
    "    \"\"\"\n",
    "    diff = group1.mean() - group2.mean()\n",
    "\n",
    "    n1, n2 = len(group1), len(group2)\n",
    "    var1 = group1.var()\n",
    "    var2 = group2.var()\n",
    "\n",
    "    pooled_var = (n1 * var1 + n2 * var2) / (n1 + n2)\n",
    "    d = diff / np.sqrt(pooled_var)\n",
    "    return d"
   ]
  },
  {
   "cell_type": "code",
   "execution_count": 17,
   "metadata": {},
   "outputs": [],
   "source": [
    "print CohenEffectSize(x, y)"
   ]
  },
  {
   "cell_type": "code",
   "execution_count": 9,
   "metadata": {},
   "outputs": [
    {
     "data": {
      "text/html": [
       "<table class=\"simpletable\">\n",
       "<caption>OLS Regression Results</caption>\n",
       "<tr>\n",
       "  <th>Dep. Variable:</th>        <td>Congruent</td>    <th>  R-squared:         </th> <td>   0.935</td>\n",
       "</tr>\n",
       "<tr>\n",
       "  <th>Model:</th>                   <td>OLS</td>       <th>  Adj. R-squared:    </th> <td>   0.932</td>\n",
       "</tr>\n",
       "<tr>\n",
       "  <th>Method:</th>             <td>Least Squares</td>  <th>  F-statistic:       </th> <td>   330.4</td>\n",
       "</tr>\n",
       "<tr>\n",
       "  <th>Date:</th>             <td>Tue, 22 Dec 2015</td> <th>  Prob (F-statistic):</th> <td>3.84e-15</td>\n",
       "</tr>\n",
       "<tr>\n",
       "  <th>Time:</th>                 <td>11:47:33</td>     <th>  Log-Likelihood:    </th> <td> -65.410</td>\n",
       "</tr>\n",
       "<tr>\n",
       "  <th>No. Observations:</th>      <td>    24</td>      <th>  AIC:               </th> <td>   132.8</td>\n",
       "</tr>\n",
       "<tr>\n",
       "  <th>Df Residuals:</th>          <td>    23</td>      <th>  BIC:               </th> <td>   134.0</td>\n",
       "</tr>\n",
       "<tr>\n",
       "  <th>Df Model:</th>              <td>     1</td>      <th>                     </th>     <td> </td>   \n",
       "</tr>\n",
       "<tr>\n",
       "  <th>Covariance Type:</th>      <td>nonrobust</td>    <th>                     </th>     <td> </td>   \n",
       "</tr>\n",
       "</table>\n",
       "<table class=\"simpletable\">\n",
       "<tr>\n",
       "       <td></td>          <th>coef</th>     <th>std err</th>      <th>t</th>      <th>P>|t|</th> <th>[95.0% Conf. Int.]</th> \n",
       "</tr>\n",
       "<tr>\n",
       "  <th>Incongruent</th> <td>    0.6218</td> <td>    0.034</td> <td>   18.177</td> <td> 0.000</td> <td>    0.551     0.693</td>\n",
       "</tr>\n",
       "</table>\n",
       "<table class=\"simpletable\">\n",
       "<tr>\n",
       "  <th>Omnibus:</th>       <td> 0.459</td> <th>  Durbin-Watson:     </th> <td>   1.568</td>\n",
       "</tr>\n",
       "<tr>\n",
       "  <th>Prob(Omnibus):</th> <td> 0.795</td> <th>  Jarque-Bera (JB):  </th> <td>   0.206</td>\n",
       "</tr>\n",
       "<tr>\n",
       "  <th>Skew:</th>          <td>-0.221</td> <th>  Prob(JB):          </th> <td>   0.902</td>\n",
       "</tr>\n",
       "<tr>\n",
       "  <th>Kurtosis:</th>      <td> 2.895</td> <th>  Cond. No.          </th> <td>    1.00</td>\n",
       "</tr>\n",
       "</table>"
      ]
     },
     "execution_count": 9,
     "output_type": "execute_result",
     "metadata": {}
    }
   ],
   "source": [
    "res = sm.OLS(x,y).fit()\n",
    "res.summary()"
   ]
  },
  {
   "cell_type": "code",
   "execution_count": null,
   "metadata": {},
   "outputs": [],
   "source": [
    ""
   ]
  }
 ],
 "metadata": {},
 "nbformat": 4,
 "nbformat_minor": 0
}