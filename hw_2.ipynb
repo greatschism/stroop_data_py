{
 "cells": [
  {
   "cell_type": "code",
   "execution_count": 49,
   "metadata": {},
   "outputs": [],
   "source": [
    "import pandas as pd\n",
    "import numpy as  np\n",
    "import scipy as sp\n",
    "from ggplot import *\n",
    "import statsmodels.api as sm"
   ]
  },
  {
   "cell_type": "code",
   "execution_count": 50,
   "metadata": {},
   "outputs": [
    {
     "name": "stdout",
     "output_type": "stream",
     "text": [
      "       Congruent  Incongruent\ncount  24.000000    24.000000\nmean   14.051125    22.015917\nstd     3.559358     4.797057\nmin     8.630000    15.687000\n25%    11.895250    18.716750\n50%    14.356500    21.017500\n75%    16.200750    24.051500\nmax    22.328000    35.255000\n"
     ]
    }
   ],
   "source": [
    "df = pd.read_csv('/Users/michaelzaladonis/PycharmProjects/stroop_data_py/stroopdata.csv')\n",
    "\n",
    "print df.describe()"
   ]
  },
  {
   "cell_type": "code",
   "execution_count": 51,
   "metadata": {},
   "outputs": [
    {
     "name": "stdout",
     "output_type": "stream",
     "text": [
      "1.80644996203e-122\n"
     ]
    }
   ],
   "source": [
    "con = sp.stats.norm(14.051125, 3.559358 ).pdf(98)\n",
    "incon = sp.stats.norm(22.015917,4.797057).pdf(98)\n",
    "\n",
    "print con"
   ]
  },
  {
   "cell_type": "code",
   "execution_count": 52,
   "metadata": {},
   "outputs": [
    {
     "name": "stdout",
     "output_type": "stream",
     "text": [
      "Congruent      14.051125\nIncongruent    22.015917\ndtype: float64\n\r \nEmpty DataFrame\nColumns: [Congruent, Incongruent]\nIndex: []\n\r\nCongruent      14.3565\nIncongruent    21.0175\ndtype: float64\n"
     ]
    }
   ],
   "source": [
    "mean = df.mean()\n",
    "mode = df.mode()\n",
    "median = df.median()\n",
    "\n",
    "print mean\n",
    "print '\\r '\n",
    "print mode\n",
    "print '\\r'\n",
    "print median"
   ]
  },
  {
   "cell_type": "code",
   "execution_count": 53,
   "metadata": {},
   "outputs": [
    {
     "name": "stdout",
     "output_type": "stream",
     "text": [
      "(-6.5322505539032285, 4.5949489622951854e-08)\n(-8.020706944109957, 4.1030005857111781e-08)\n"
     ]
    },
    {
     "ename": "AttributeError",
     "evalue": "'module' object has no attribute 'CompareMeans'",
     "output_type": "error",
     "traceback": [
      "\u001b[0;31m---------------------------------------------------------------------------\u001b[0m",
      "\u001b[0;31mAttributeError\u001b[0m                            Traceback (most recent call last)",
      "\u001b[0;32m<ipython-input-53-be3ebc9578d2>\u001b[0m in \u001b[0;36m<module>\u001b[0;34m()\u001b[0m\n\u001b[1;32m     15\u001b[0m \u001b[0;34m\u001b[0m\u001b[0m\n\u001b[1;32m     16\u001b[0m \u001b[0;31m#compare means\u001b[0m\u001b[0;34m\u001b[0m\u001b[0;34m\u001b[0m\u001b[0m\n\u001b[0;32m---> 17\u001b[0;31m \u001b[0mres\u001b[0m \u001b[0;34m=\u001b[0m \u001b[0msm\u001b[0m\u001b[0;34m.\u001b[0m\u001b[0mCompareMeans\u001b[0m\u001b[0;34m(\u001b[0m\u001b[0mx\u001b[0m\u001b[0;34m,\u001b[0m\u001b[0my\u001b[0m\u001b[0;34m)\u001b[0m\u001b[0;34m\u001b[0m\u001b[0m\n\u001b[0m\u001b[1;32m     18\u001b[0m \u001b[0;32mprint\u001b[0m \u001b[0mres\u001b[0m\u001b[0;34m\u001b[0m\u001b[0m\n",
      "\u001b[0;31mAttributeError\u001b[0m: 'module' object has no attribute 'CompareMeans'"
     ]
    }
   ],
   "source": [
    "x = df['Congruent']\n",
    "y = df['Incongruent']\n",
    "\n",
    "#independent\n",
    "\n",
    "print sp.stats.ttest_ind(x, y)\n",
    "\n",
    "#related\n",
    "# http://docs.scipy.org/doc/scipy-0.14.0/reference/generated/scipy.stats.mstats.ttest_rel.html\n",
    "# http://en.wikipedia.org/wiki/T-test#Dependent_t-test\n",
    "\n",
    "print sp.stats.ttest_rel(x, y)\n",
    "\n",
    "\n",
    "\n",
    "#compare means\n",
    "res = sm.stats.CompareMeans(x,y)\n",
    "print res"
   ]
  },
  {
   "cell_type": "code",
   "execution_count": 24,
   "metadata": {},
   "outputs": [],
   "source": [
    "#https://github.com/AllenDowney/CompStats/blob/master/effect_size.ipynb\n",
    "\n",
    "def CohenEffectSize(group1, group2):\n",
    "    \"\"\"Compute Cohen's d.\n",
    "\n",
    "    group1: Series or NumPy array\n",
    "    group2: Series or NumPy array\n",
    "\n",
    "    returns: float\n",
    "    \"\"\"\n",
    "    diff = group1.mean() - group2.mean()\n",
    "\n",
    "    n1, n2 = len(group1), len(group2)\n",
    "    var1 = group1.var()\n",
    "    var2 = group2.var()\n",
    "\n",
    "    pooled_var = (n1 * var1 + n2 * var2) / (n1 + n2)\n",
    "    d = diff / np.sqrt(pooled_var)\n",
    "    return d"
   ]
  },
  {
   "cell_type": "code",
   "execution_count": 25,
   "metadata": {},
   "outputs": [
    {
     "name": "stdout",
     "output_type": "stream",
     "text": [
      "-1.88569830786\n"
     ]
    }
   ],
   "source": [
    "print CohenEffectSize(x, y)"
   ]
  },
  {
   "cell_type": "code",
   "execution_count": null,
   "metadata": {},
   "outputs": [],
   "source": [
    "res = sm.OLS(x,y).fit()\n",
    "res.summary()"
   ]
  },
  {
   "cell_type": "code",
   "execution_count": null,
   "metadata": {},
   "outputs": [],
   "source": [
    ""
   ]
  }
 ],
 "metadata": {},
 "nbformat": 4,
 "nbformat_minor": 0
}