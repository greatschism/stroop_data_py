{
 "cells": [
  {
   "cell_type": "markdown",
   "metadata": {},
   "source": [
    "#1. What is our independent variable? What is our dependent variable?\n",
    "\n",
    "- The independent variable is the color of the word. \n",
    "- The dependent variable is the amount of time it takes to read such word out loud. "
   ]
  },
  {
   "cell_type": "markdown",
   "metadata": {},
   "source": [
    "#2. What is an appropriate set of hypotheses for this task? What kind of statistical test do you expect to perform? Justify your choices.\n",
    "\n",
    "- Hypothosis is that it take more time to process written words for colors which are a different color than the text.\n",
    "- Null-hypothosis is that it will take participantes the same time or less time when selecting congruent tasts.\n",
    "- The statistical test that will be used is a single sample one tailed t-test. Which was chosen because our data shows that all participants were slower when selecting incongruent, therefore only one side was needed. "
   ]
  },
  {
   "cell_type": "markdown",
   "metadata": {},
   "source": [
    "#3. Report some descriptive statistics regarding this dataset. Include at least one measure of central tendency and at least one measure of variability."
   ]
  },
  {
   "cell_type": "code",
   "execution_count": 3,
   "metadata": {},
   "outputs": [],
   "source": [
    "import pandas as pd\n",
    "import scipy.stats\n",
    "\n",
    "df = pd.read_csv('/Users/mike/PycharmProject/stroop_data_py/stroopdata.csv')\n",
    "\n",
    "print df.describe()\n",
    "\n",
    "x = df['Congruent']\n",
    "y = df['Incongruent']"
   ]
  },
  {
   "cell_type": "markdown",
   "metadata": {},
   "source": [
    "#4. Provide one or two visualizations that show the distribution of the sample data. Write one or two sentences noting what you observe about the plot or plots."
   ]
  },
  {
   "cell_type": "code",
   "execution_count": 1,
   "metadata": {},
   "outputs": [],
   "source": [
    "import numpy as np\n",
    "import matplotlib.pyplot as plt\n",
    "import matplotlib.patches as mpatches\n",
    "\n",
    "X = np.arange(24) + 1\n",
    "a = plt.bar(X + 0.00, x, color='#377EB8', width=0.25)\n",
    "b = plt.bar(X + 0.25, y, color='#55BA87', width=0.25)\n",
    "\n",
    "plt.xlabel('Particpant')\n",
    "plt.ylabel('Time')\n",
    "plt.title('Stroop data scores')\n",
    "plt.xticks(X)\n",
    "plt.legend((a, b), ('Congruent', 'Incongruent'))\n",
    "\n",
    "plt.tight_layout()\n",
    "plt.show()"
   ]
  },
  {
   "cell_type": "code",
   "execution_count": 2,
   "metadata": {},
   "outputs": [],
   "source": [
    "plt.xlabel('Particpant')\n",
    "plt.ylabel('Time')\n",
    "plt.title('Stroop data scores')\n",
    "plt.xticks(X)\n",
    "plt.stackplot(X,x,y, \n",
    "          colors=['#377EB8','#55BA87'])\n",
    "# creating the legend manually\n",
    "plt.legend([mpatches.Patch(color='#377EB8'),  \n",
    "            mpatches.Patch(color='#55BA87')], \n",
    "           ['Congruent', 'Incongruent'])\n",
    "plt.show()"
   ]
  },
  {
   "cell_type": "markdown",
   "metadata": {},
   "source": [
    "#5. Now, perform the statistical test and report your results. What is your confidence level and your critical statistic value? Do you reject the null hypothesis or fail to reject it? Come to a conclusion in terms of the experiment task. Did the results match up with your expectations?"
   ]
  },
  {
   "cell_type": "code",
   "execution_count": 1,
   "metadata": {},
   "outputs": [],
   "source": [
    "ttest = sp.stats.ttest_ind(df['Congruent'], df['Incongruent'])\n",
    "\n",
    "## The confidence level is 95% or 0.95. \n",
    "##\n",
    "\n",
    "if ttest[1] >= 0.95:\n",
    "    print 'True'\n",
    "else:\n",
    "    print 'False'\n",
    "\n",
    "print 'p-value: ' = ttest[0]\n",
    "\n",
    "print 't-test: ' = ttest[1]\n",
    "\n",
    "crit10 = stats.t.ppf(1 - 0.05], 10)\n",
    "\n",
    "print 'critical values from ppf at 5%% and  %8.4f' % (crit10)\n"
   ]
  },
  {
   "cell_type": "markdown",
   "metadata": {},
   "source": [
    "Based on the results of the t-test, the null hypothosis should be rejected. There is enough evidence to prove that there is a significant diffrence in the amount of time it takes for the participant to visually decode the information when the color and words are incongruent."
   ]
  },
  {
   "cell_type": "markdown",
   "metadata": {},
   "source": [
    "#6. Optional: What do you think is responsible for the effects observed? Can you think of an alternative or similar task that would result in a similar effect? Some research about the problem will be helpful for thinking about these two questions!"
   ]
  }
 ],
 "metadata": {},
 "nbformat": 4,
 "nbformat_minor": 0
}