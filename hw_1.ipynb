{
 "cells": [
  {
   "cell_type": "markdown",
   "metadata": {},
   "source": [
    " 1. What is our independent variable? What is our dependent variable?\n",
    "- The independent variable is the color of the word. \n",
    "- The dependent variable is the amount of time it takes to read such word out loud. "
   ]
  },
  {
   "cell_type": "markdown",
   "metadata": {},
   "source": [
    "The independent variable is the color of the word. The depenent variable is the amount of time it takes to read such word out loud. "
   ]
  },
  {
   "cell_type": "markdown",
   "metadata": {},
   "source": [
    "2. What is an appropriate set of hypotheses for this task? What kind of statistical test do you expect to perform? Justify your choices."
   ]
  },
  {
   "cell_type": "markdown",
   "metadata": {},
   "source": [
    "Hypothosis is that it take more time to process written words for colors which are a different color than the text. \n",
    "\n",
    "\n",
    "The statistical test that will be "
   ]
  },
  {
   "cell_type": "markdown",
   "metadata": {},
   "source": [
    " 3. Report some descriptive statistics regarding this dataset. Include at least one measure of central tendency and at least one measure of variability."
   ]
  },
  {
   "cell_type": "code",
   "execution_count": 1,
   "metadata": {},
   "outputs": [],
   "source": [
    "import pandas as pd\n",
    "import numpy as  np\n",
    "import scipy as sp\n",
    "from ggplot import *"
   ]
  },
  {
   "cell_type": "code",
   "execution_count": 2,
   "metadata": {},
   "outputs": [],
   "source": [
    "df = pd.read_csv('/Users/mike/PycharmProject/stroop_data_py/stroopdata.csv')\n",
    "\n",
    "# print df.describe()\n",
    "\n",
    "def abs_diff(x, y):\n",
    "    return abs(x - y)\n",
    "\n",
    "# df['Diff'] = abs_diff(df['Congruent'], df['Incongruent'])\n",
    "\n",
    "# Diff# print df['Diff']\n",
    "\n",
    "x = df['Congruent']\n",
    "y = df['Incongruent']"
   ]
  },
  {
   "cell_type": "code",
   "execution_count": 3,
   "metadata": {},
   "outputs": [],
   "source": [
    "# Mean, Median and Mode\n",
    "# Mode does not compute\n",
    "\n",
    "mean = df.mean()\n",
    "mode = df.mode()\n",
    "median = df.median()\n",
    "\n",
    "# print mean\n",
    "# print '\\r '\n",
    "# print mode\n",
    "# print '\\r'\n",
    "# print median"
   ]
  },
  {
   "cell_type": "code",
   "execution_count": 4,
   "metadata": {},
   "outputs": [
    {
     "data": {
      "text/plain": [
       "Congruent      12.669029\nIncongruent    23.011757\ndtype: float64"
      ]
     },
     "execution_count": 4,
     "output_type": "execute_result",
     "metadata": {}
    }
   ],
   "source": [
    "#Variance\n",
    "\n",
    "df.var()"
   ]
  },
  {
   "cell_type": "markdown",
   "metadata": {},
   "source": [
    "4. Provide one or two visualizations that show the distribution of the sample data. Write one or two sentences noting what you observe about the plot or plots."
   ]
  },
  {
   "cell_type": "code",
   "execution_count": 5,
   "metadata": {},
   "outputs": [],
   "source": [
    "# df['x'] = df.index\n",
    "# df = pd.melt(df, id_vars='x')\n",
    "# \n",
    "# ggplot(aes(x='x', y='value', color='variable'), df) + geom_line()"
   ]
  },
  {
   "cell_type": "code",
   "execution_count": 6,
   "metadata": {},
   "outputs": [
    {
     "name": "stdout",
     "output_type": "stream",
     "text": [
      "hi\n"
     ]
    }
   ],
   "source": [
    "# p = ggplot(df, aes(x='x', y='value'))\n",
    "# p + geom_point(alpha=0.25) + \\\n",
    "#     facet_grid(\"x\", \"value\") \n",
    "# \n",
    "# p\n",
    "\n",
    "print 'hi'"
   ]
  },
  {
   "cell_type": "markdown",
   "metadata": {},
   "source": [
    "5. Now, perform the statistical test and report your results. What is your confidence level and your critical statistic value? Do you reject the null hypothesis or fail to reject it? Come to a conclusion in terms of the experiment task. Did the results match up with your expectations?\n"
   ]
  },
  {
   "cell_type": "code",
   "execution_count": 7,
   "metadata": {},
   "outputs": [
    {
     "name": "stdout",
     "output_type": "stream",
     "text": [
      "False\n"
     ]
    }
   ],
   "source": [
    "ttest= sp.stats.ttest_ind(df['Congruent'], df['Incongruent'])\n",
    "\n",
    "if ttest[1] >= 0.95:\n",
    "    print 'True'\n",
    "else:\n",
    "    print 'False'"
   ]
  },
  {
   "cell_type": "code",
   "execution_count": 8,
   "metadata": {},
   "outputs": [
    {
     "name": "stdout",
     "output_type": "stream",
     "text": [
      "LeveneResult(statistic=0.2502499448677214, pvalue=0.61928406991282192)\nTtest_relResult(statistic=-8.020706944109957, pvalue=4.1030005857111781e-08)\nks_con  >>>>>>> KstestResult(statistic=1.0, pvalue=0.0)\nks_inc  >>>>>>> KstestResult(statistic=1.0, pvalue=0.0)\nKs_2sampResult(statistic=0.79166666666666674, pvalue=1.5262723360379476e-07)\n"
     ]
    }
   ],
   "source": [
    "print sp.stats.levene(df.Congruent, df.Incongruent)\n",
    "print sp.stats.ttest_rel(df.Congruent, df.Incongruent)\n",
    "\n",
    "print 'ks_con  >>>>>>>', sp.stats.kstest(df.Congruent, 'norm')\n",
    "print 'ks_inc  >>>>>>>', sp.stats.kstest(df.Incongruent, 'norm')\n",
    "\n",
    "\n",
    "print sp.stats.ks_2samp(df.Congruent, df.Incongruent)"
   ]
  },
  {
   "cell_type": "markdown",
   "metadata": {},
   "source": [
    ""
   ]
  },
  {
   "cell_type": "markdown",
   "metadata": {},
   "source": [
    "- 6. Optional: What do you think is responsible for the effects observed? Can you think of an alternative or similar task that would result in a similar effect? Some research about the problem will be helpful for thinking about these two questions!"
   ]
  },
  {
   "cell_type": "code",
   "execution_count": null,
   "metadata": {},
   "outputs": [],
   "source": [
    ""
   ]
  }
 ],
 "metadata": {
  "kernelspec": {
   "display_name": "Python 2",
   "language": "python",
   "name": "python2"
  },
  "language_info": {
   "codemirror_mode": {
    "name": "ipython",
    "version": 2.0
   },
   "file_extension": ".py",
   "mimetype": "text/x-python",
   "name": "python",
   "nbconvert_exporter": "python",
   "pygments_lexer": "ipython2",
   "version": "2.7.10"
  }
 },
 "nbformat": 4,
 "nbformat_minor": 0
}