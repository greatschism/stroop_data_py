{
 "cells": [
  {
   "cell_type": "markdown",
   "metadata": {},
   "source": [
    "\n",
    "1. What is our independent variable? What is our dependent variable?\n",
    "\n",
    "2. What is an appropriate set of hypotheses for this task? What kind of statistical test do you expect to perform? Justify your choices.\n",
    "\n",
    "3. Report some descriptive statistics regarding this dataset. Include at least one measure of central tendency and at least one measure of variability.\n",
    "\n",
    "4. Provide one or two visualizations that show the distribution of the sample data. Write one or two sentences noting what you observe about the plot or plots.\n",
    "\n",
    "5. Now, perform the statistical test and report your results. What is your confidence level and your critical statistic value? Do you reject the null hypothesis or fail to reject it? Come to a conclusion in terms of the experiment task. Did the results match up with your expectations?\n",
    "\n",
    "6. Optional: What do you think is responsible for the effects observed? Can you think of an alternative or similar task that would result in a similar effect? Some research about the problem will be helpful for thinking about these two questions!\n",
    "\n"
   ]
  },
  {
   "cell_type": "code",
   "execution_count": null,
   "metadata": {},
   "outputs": [],
   "source": [
    "import pandas as pd\n",
    "import numpy as np\n",
    "import scipy as sp\n",
    "import scipy.stats\n",
    "from ggplot import *\n",
    "\n",
    "df = pd.read_csv('/Users/mike/PycharmProject/stroop_data_py/stroopdata.csv')\n",
    "\n",
    "print df.describe()\n",
    "\n",
    "x = df['Congruent']\n",
    "y = df['Incongruent']"
   ]
  },
  {
   "cell_type": "code",
   "execution_count": 33,
   "metadata": {},
   "outputs": [
    {
     "name": "stdout",
     "output_type": "stream",
     "text": [
      "Congruent      3.559358\nIncongruent    4.797057\ndtype: float64\n"
     ]
    }
   ],
   "source": [
    "m,s =df.mean(), df.std()\n",
    "\n",
    "mu, sigma = m.Congruent, s.Congruent # mean and standard deviation\n",
    "\n",
    "print df.std()\n",
    "\n",
    "# mu, sigma = 0, 0.1 # mean and standard deviation"
   ]
  },
  {
   "cell_type": "code",
   "execution_count": 34,
   "metadata": {},
   "outputs": [
    {
     "name": "stdout",
     "output_type": "stream",
     "text": [
      "False\n"
     ]
    }
   ],
   "source": [
    "s = np.random.normal(25)\n",
    "\n",
    "print abs(mu - np.mean(s)) < 0.01"
   ]
  },
  {
   "cell_type": "code",
   "execution_count": 35,
   "metadata": {},
   "outputs": [
    {
     "name": "stdout",
     "output_type": "stream",
     "text": [
      "### Descriptive statistics ###\n       Congruent  Incongruent  difference\ncount  24.000000    24.000000   24.000000\nmean   14.051125    22.015917    7.964792\nstd     3.559358     4.797057    4.864827\nmin     8.630000    15.687000    1.950000\n25%    11.895250    18.716750    3.645500\n50%    14.356500    21.017500    7.666500\n75%    16.200750    24.051500   10.258500\nmax    22.328000    35.255000   21.919000\n\n### Standard error of the mean ###\nCongruent      0.726551\nIncongruent    0.979195\ndifference     0.993029\ndtype: float64\n"
     ]
    }
   ],
   "source": [
    "import pandas as pd\n",
    "import numpy as np\n",
    "\n",
    "stroop = pd.read_csv('stroopdata.csv')\n",
    "# Difference is created by Incongruent - Congruent so that no negative value appears\n",
    "stroop['difference'] = stroop.Incongruent - stroop.Congruent\n",
    "\n",
    "print '### Descriptive statistics ###'\n",
    "print stroop.describe()\n",
    "print ''\n",
    "print '### Standard error of the mean ###'\n",
    "print stroop.std() / np.sqrt(stroop.count())"
   ]
  },
  {
   "cell_type": "code",
   "execution_count": 36,
   "metadata": {},
   "outputs": [
    {
     "data": {
      "image/png": "[encoded data removed]"
     },
     "output_type": "display_data",
     "text": [
      "<matplotlib.figure.Figure at 0x1090dde10>"
     ],
     "metadata": {}
    }
   ],
   "source": [
    "%matplotlib inline \n",
    "_ = stroop.hist(sharex=True, sharey=True, figsize=(15, 3), layout=(1, 3))"
   ]
  },
  {
   "cell_type": "code",
   "execution_count": 37,
   "metadata": {},
   "outputs": [
    {
     "name": "stdout",
     "output_type": "stream",
     "text": [
      "T-statistics manually computed is 8.02070694411\nT-statistics computed by scipy.stats is 8.02070694411\nP-value based on the t-statistics is 4.10300058571e-08\n"
     ]
    }
   ],
   "source": [
    "from scipy import stats\n",
    "\n",
    "# Paired t-test (manual)\n",
    "SE = stroop.difference.std() / np.sqrt(stroop.difference.count())\n",
    "t1 = stroop.difference.mean() / SE\n",
    "\n",
    "print \"T-statistics manually computed is {}\".format(t1)\n",
    "\n",
    "# Paired t-test (scipy)\n",
    "t2, p2 = stats.ttest_rel(stroop.Incongruent, stroop.Congruent)\n",
    "\n",
    "print \"T-statistics computed by scipy.stats is {}\".format(t2)\n",
    "print \"P-value based on the t-statistics is {}\".format(p2)"
   ]
  },
  {
   "cell_type": "code",
   "execution_count": 38,
   "metadata": {},
   "outputs": [
    {
     "name": "stdout",
     "output_type": "stream",
     "text": [
      "(14.67727777777778, array([ 13.17429273,  12.65165821,  12.62304154]), array([ 16.18026283,  16.70289735,  16.73151402]))\n"
     ]
    }
   ],
   "source": [
    "'''\n",
    "Confidence level = 0.95\n",
    "'''\n",
    "\n",
    "def mean_confidence_interval(data, confidence=0.95):\n",
    "    # a = data\n",
    "    # m, se = np.mean(a), scipy.stats.sem(a)\n",
    "    # low, high = scipy.stats.norm.interval(confidence, m, se)\n",
    "    # h1 = high - m\n",
    "    # h2 = m - low\n",
    "    \n",
    "    a = 1.0 * np.array(data)\n",
    "    n = len(a)\n",
    "    m, se = np.mean(a), scipy.stats.sem(a)\n",
    "    h = se * sp.stats.t._ppf((1 + confidence) / 2., n - 1)\n",
    "    return m, m - h, m + h\n",
    "\n",
    "    if h1 - h2 != 0.:\n",
    "        print 'Something went wrong'\n",
    "        print '{} and {} should be identical distances from mean {}..'.format(h1, h2, m)\n",
    "    else:\n",
    "        return h1\n",
    "print mean_confidence_interval(stroop)"
   ]
  },
  {
   "cell_type": "code",
   "execution_count": 46,
   "metadata": {},
   "outputs": [
    {
     "name": "stdout",
     "output_type": "stream",
     "text": [
      "Congruent      3.559358\nIncongruent    4.797057\ndifference     4.864827\ndtype: float64\n-------- \n"
     ]
    }
   ],
   "source": [
    "from scipy import stats\n",
    "\n",
    "def printScores(scores):\n",
    "    # a = data\n",
    "    # m, se = np.mean(a), scipy.stats.sem(a)\n",
    "    scores_sd = scores.std()\n",
    "    print scores_sd\n",
    "    scores_mean = scores.mean()\n",
    "    # Assuming a normal distribution...\n",
    "    scores_mean_ci = stats.norm.interval(0.05, loc=scores_mean, scale=scores_sd)\n",
    "\n",
    "    print(\"-------- \")\n",
    "    # print(\"Mean: \" + str(round(scores_mean, 3)))\n",
    "    # print(\"Standard dev: \" + str(round(scores_sd, 3)))\n",
    "    # print(\"95% confidence interval: \" + str(round(scores_mean_ci[0], 3)) + \" -> \" + str(round(scores_mean_ci[1], 3)))\n",
    "\n",
    "printScores(stroop)"
   ]
  },
  {
   "cell_type": "markdown",
   "metadata": {},
   "source": [
    "To start paired t-test, let's set the significance level as 0.01 which is reletively conservative.\n",
    "So the critical value of t-statistics is 2.50 according to t-table. (Look up a cell where p=0.01 and df=23)\n",
    "The null hypothesis Mc=Mi can be described as Mi−Mc=0 which is equivalent to Md=0.\n",
    "As computed in the previous section, the mean of difference is 7.96 and standard error of the mean of difference is 0.99.\n",
    "Md=7.96\n",
    "SEd=0.99\n",
    "Plug in those numbers to the formula : t-statistics = Mean / Standard Error\n",
    "t-statistics = 7.96 / 0.99 = 8.02\n",
    "The number matches the one in python code above. (Not round-off numbers are used for computation.)\n",
    "Since the t-statistics is much bigger than the critical value 2.50, the null hypothesis is rejected.\n",
    "(According to scipy library, the p-value is actually 4.10-e08 and this is much less than the significance level set at the beginning.)\n",
    "As a result, we can say that the delay of reaction time in Incongruent condition is statistically significant on a given data set. In other words, Stroop effect is statistically significant.\n",
    "6. Impression\n",
    "The delay of reaction time in Incongruent condition seems to be a certain type of cognitive bias which human being cannot avoid as we learn things. Wikipedia says that this is due to attentional bias. Dot-probe paradigm and dichotic listening are considered as similar tasks as written in the Wikipedia page."
   ]
  },
  {
   "cell_type": "code",
   "execution_count": 49,
   "metadata": {},
   "outputs": [
    {
     "name": "stdout",
     "output_type": "stream",
     "text": [
      "LeveneResult(statistic=0.2502499448677214, pvalue=0.61928406991282192)\nks_con KstestResult(statistic=1.0, pvalue=0.0)\nks_inc KstestResult(statistic=1.0, pvalue=0.0)\nTtest_indResult(statistic=-6.5322505539032285, pvalue=4.5949489622951854e-08)\n"
     ]
    }
   ],
   "source": [
    "from scipy.stats import levene\n",
    "print levene(stroop.Congruent, stroop.Incongruent)\n",
    "\n",
    "from scipy.stats import kstest\n",
    "print 'ks_con', kstest(stroop.Congruent, 'norm')\n",
    "print 'ks_inc', kstest(stroop.Incongruent, 'norm')\n",
    "\n",
    "from scipy.stats import ks_2samp\n",
    "ks_2samp(stroop.Congruent, stroop.Incongruent)\n",
    "# Do the t-test\n",
    "import scipy.stats as ss\n",
    "print ss.ttest_ind(stroop.Congruent, stroop.Incongruent)"
   ]
  },
  {
   "cell_type": "code",
   "execution_count": null,
   "metadata": {},
   "outputs": [],
   "source": [
    ""
   ]
  }
 ],
 "metadata": {},
 "nbformat": 4,
 "nbformat_minor": 0
}